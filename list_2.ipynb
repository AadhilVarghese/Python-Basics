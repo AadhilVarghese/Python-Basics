{
  "nbformat": 4,
  "nbformat_minor": 0,
  "metadata": {
    "colab": {
      "provenance": [],
      "authorship_tag": "ABX9TyNI0PDXxIc7YrnZ3Uec1ftX",
      "include_colab_link": true
    },
    "kernelspec": {
      "name": "python3",
      "display_name": "Python 3"
    },
    "language_info": {
      "name": "python"
    }
  },
  "cells": [
    {
      "cell_type": "markdown",
      "metadata": {
        "id": "view-in-github",
        "colab_type": "text"
      },
      "source": [
        "<a href=\"https://colab.research.google.com/github/AadhilVarghese/Python-Basics/blob/main/list_2.ipynb\" target=\"_parent\"><img src=\"https://colab.research.google.com/assets/colab-badge.svg\" alt=\"Open In Colab\"/></a>"
      ]
    },
    {
      "cell_type": "code",
      "execution_count": 2,
      "metadata": {
        "colab": {
          "base_uri": "https://localhost:8080/"
        },
        "id": "_d9YF44LDuR_",
        "outputId": "294f7fc7-5c5a-4a16-cc7d-5ae461c38752"
      },
      "outputs": [
        {
          "output_type": "stream",
          "name": "stdout",
          "text": [
            "[1, 'AADHIL', 18, '15-11-2004', 'MALA']\n"
          ]
        }
      ],
      "source": [
        "x=[1,\"AADHIL\",18,\"15-11-2004\",\"MALA\"]\n",
        "print(x)"
      ]
    },
    {
      "cell_type": "code",
      "source": [
        "x[1]"
      ],
      "metadata": {
        "colab": {
          "base_uri": "https://localhost:8080/",
          "height": 35
        },
        "id": "8LPtW3EsGeHo",
        "outputId": "d40d25af-3c87-4460-cb17-7780a3ee2013"
      },
      "execution_count": 3,
      "outputs": [
        {
          "output_type": "execute_result",
          "data": {
            "text/plain": [
              "'AADHIL'"
            ],
            "application/vnd.google.colaboratory.intrinsic+json": {
              "type": "string"
            }
          },
          "metadata": {},
          "execution_count": 3
        }
      ]
    },
    {
      "cell_type": "code",
      "source": [
        "x[4]"
      ],
      "metadata": {
        "colab": {
          "base_uri": "https://localhost:8080/",
          "height": 35
        },
        "id": "0IrgTod-IHwL",
        "outputId": "30c89779-a663-474d-f700-1c359904718f"
      },
      "execution_count": 4,
      "outputs": [
        {
          "output_type": "execute_result",
          "data": {
            "text/plain": [
              "'MALA'"
            ],
            "application/vnd.google.colaboratory.intrinsic+json": {
              "type": "string"
            }
          },
          "metadata": {},
          "execution_count": 4
        }
      ]
    },
    {
      "cell_type": "code",
      "source": [
        "x[3]"
      ],
      "metadata": {
        "colab": {
          "base_uri": "https://localhost:8080/",
          "height": 35
        },
        "id": "fh54-POAIQEG",
        "outputId": "e783d5a7-89c5-43ef-e32d-68ec6c83d985"
      },
      "execution_count": 5,
      "outputs": [
        {
          "output_type": "execute_result",
          "data": {
            "text/plain": [
              "'15-11-2004'"
            ],
            "application/vnd.google.colaboratory.intrinsic+json": {
              "type": "string"
            }
          },
          "metadata": {},
          "execution_count": 5
        }
      ]
    },
    {
      "cell_type": "code",
      "source": [
        "x.append(\"thrissur\")\n",
        "print(x)"
      ],
      "metadata": {
        "colab": {
          "base_uri": "https://localhost:8080/"
        },
        "id": "FC766NO1ISn2",
        "outputId": "324d5ea8-d8c0-4dd5-f1f0-ddd7a895567a"
      },
      "execution_count": 7,
      "outputs": [
        {
          "output_type": "stream",
          "name": "stdout",
          "text": [
            "[1, 'AADHIL', 18, '15-11-2004', 'MALA', 'thrissur']\n"
          ]
        }
      ]
    },
    {
      "cell_type": "code",
      "source": [
        "x.insert(1,\"kerala\")\n",
        "print(x)"
      ],
      "metadata": {
        "colab": {
          "base_uri": "https://localhost:8080/"
        },
        "id": "5dqpzKqMJBm1",
        "outputId": "bb6ffe54-cda4-4c8b-d0f7-208a933c93be"
      },
      "execution_count": 8,
      "outputs": [
        {
          "output_type": "stream",
          "name": "stdout",
          "text": [
            "[1, 'kerala', 'AADHIL', 18, '15-11-2004', 'MALA', 'thrissur']\n"
          ]
        }
      ]
    },
    {
      "cell_type": "code",
      "source": [
        "marks=int(input(\"enter your mark\"))\n",
        "if marks >=50:\n",
        "  print(\"pass\")\n",
        "else:\n",
        "  print(\"fail\")"
      ],
      "metadata": {
        "colab": {
          "base_uri": "https://localhost:8080/"
        },
        "id": "Q4bCkVygKAWt",
        "outputId": "28471744-a392-4dc4-a292-21b42471c9ac"
      },
      "execution_count": 15,
      "outputs": [
        {
          "output_type": "stream",
          "name": "stdout",
          "text": [
            "enter your mark62\n",
            "pass\n"
          ]
        }
      ]
    },
    {
      "cell_type": "code",
      "source": [
        "x=[\"ponna\",\"velu\",\"appoos\",\"unni\",\"don\"]\n",
        "print(x)\n",
        "y=input('enter a name')\n",
        "x.append(y)\n",
        "print(x)"
      ],
      "metadata": {
        "colab": {
          "base_uri": "https://localhost:8080/"
        },
        "id": "wuLlkSyYM1ov",
        "outputId": "298aa1ca-300e-49f2-c4d5-c99813e48c8a"
      },
      "execution_count": 21,
      "outputs": [
        {
          "output_type": "stream",
          "name": "stdout",
          "text": [
            "['ponna', 'velu', 'appoos', 'unni', 'don']\n",
            "enter a nameraphy\n",
            "['ponna', 'velu', 'appoos', 'unni', 'don', 'raphy']\n"
          ]
        }
      ]
    },
    {
      "cell_type": "code",
      "source": [
        "x.insert(3,\"aadhil\")\n",
        "print(x)"
      ],
      "metadata": {
        "colab": {
          "base_uri": "https://localhost:8080/"
        },
        "id": "WvNoJZ_rRANh",
        "outputId": "6fce50fc-6fb1-4a93-920f-9d04719bc10b"
      },
      "execution_count": 22,
      "outputs": [
        {
          "output_type": "stream",
          "name": "stdout",
          "text": [
            "['ponna', 'velu', 'appoos', 'aadhil', 'unni', 'don', 'raphy']\n"
          ]
        }
      ]
    },
    {
      "cell_type": "code",
      "source": [
        "x=[\"ponna\",\"velu\",\"appoos\",\"unni\",\"don\"]\n",
        "print(x)\n",
        "y=input('enter a name')\n",
        "x.insert(3,y)\n",
        "print(x)"
      ],
      "metadata": {
        "colab": {
          "base_uri": "https://localhost:8080/"
        },
        "id": "dsJ_MqmrdzH7",
        "outputId": "4173fcc0-f0ed-4cf6-9081-525fdaf8f228"
      },
      "execution_count": 27,
      "outputs": [
        {
          "output_type": "stream",
          "name": "stdout",
          "text": [
            "['ponna', 'velu', 'appoos', 'unni', 'don']\n",
            "enter a nameaadhil\n",
            "['ponna', 'velu', 'appoos', 'aadhil', 'unni', 'don']\n"
          ]
        }
      ]
    },
    {
      "cell_type": "code",
      "source": [
        "x=[\"ponna\",\"velu\",\"appoos\",\"unni\",\"don\"]\n",
        "print(x)\n",
        "y=input('enter a name')\n",
        "x.insert(int(input(\"enter a number\")),y)\n",
        "print(x)"
      ],
      "metadata": {
        "colab": {
          "base_uri": "https://localhost:8080/"
        },
        "id": "ZHvMk_T6gMsz",
        "outputId": "e7f01681-ec19-4604-8516-6577700bbcb2"
      },
      "execution_count": 30,
      "outputs": [
        {
          "output_type": "stream",
          "name": "stdout",
          "text": [
            "['ponna', 'velu', 'appoos', 'unni', 'don']\n",
            "enter a namehadhi\n",
            "enter a number3\n",
            "['ponna', 'velu', 'appoos', 'hadhi', 'unni', 'don']\n"
          ]
        }
      ]
    },
    {
      "cell_type": "code",
      "source": [],
      "metadata": {
        "id": "xsIZD9cQgPUD"
      },
      "execution_count": null,
      "outputs": []
    }
  ]
}